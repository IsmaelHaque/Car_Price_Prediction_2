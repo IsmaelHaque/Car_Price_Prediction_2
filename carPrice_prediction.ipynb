{
 "cells": [
  {
   "cell_type": "code",
   "execution_count": 636,
   "id": "c253aac3-8d1c-40db-a4d4-f4bc58086b47",
   "metadata": {},
   "outputs": [],
   "source": [
    "import numpy as np\n",
    "import pandas as pd"
   ]
  },
  {
   "cell_type": "code",
   "execution_count": 637,
   "id": "322dfc9b-603c-4ac0-90bd-1b2ca04eb728",
   "metadata": {},
   "outputs": [
    {
     "data": {
      "text/html": [
       "<div>\n",
       "<style scoped>\n",
       "    .dataframe tbody tr th:only-of-type {\n",
       "        vertical-align: middle;\n",
       "    }\n",
       "\n",
       "    .dataframe tbody tr th {\n",
       "        vertical-align: top;\n",
       "    }\n",
       "\n",
       "    .dataframe thead th {\n",
       "        text-align: right;\n",
       "    }\n",
       "</style>\n",
       "<table border=\"1\" class=\"dataframe\">\n",
       "  <thead>\n",
       "    <tr style=\"text-align: right;\">\n",
       "      <th></th>\n",
       "      <th>ID</th>\n",
       "      <th>Price</th>\n",
       "      <th>Levy</th>\n",
       "      <th>Manufacturer</th>\n",
       "      <th>Model</th>\n",
       "      <th>Prod. year</th>\n",
       "      <th>Category</th>\n",
       "      <th>Leather interior</th>\n",
       "      <th>Fuel type</th>\n",
       "      <th>Engine volume</th>\n",
       "      <th>Mileage</th>\n",
       "      <th>Cylinders</th>\n",
       "      <th>Gear box type</th>\n",
       "      <th>Drive wheels</th>\n",
       "      <th>Doors</th>\n",
       "      <th>Wheel</th>\n",
       "      <th>Color</th>\n",
       "      <th>Airbags</th>\n",
       "    </tr>\n",
       "  </thead>\n",
       "  <tbody>\n",
       "    <tr>\n",
       "      <th>0</th>\n",
       "      <td>45654403</td>\n",
       "      <td>13328</td>\n",
       "      <td>1399</td>\n",
       "      <td>LEXUS</td>\n",
       "      <td>RX 450</td>\n",
       "      <td>2010</td>\n",
       "      <td>Jeep</td>\n",
       "      <td>Yes</td>\n",
       "      <td>Hybrid</td>\n",
       "      <td>3.5</td>\n",
       "      <td>186005 km</td>\n",
       "      <td>6.0</td>\n",
       "      <td>Automatic</td>\n",
       "      <td>4x4</td>\n",
       "      <td>04-May</td>\n",
       "      <td>Left wheel</td>\n",
       "      <td>Silver</td>\n",
       "      <td>12</td>\n",
       "    </tr>\n",
       "    <tr>\n",
       "      <th>1</th>\n",
       "      <td>44731507</td>\n",
       "      <td>16621</td>\n",
       "      <td>1018</td>\n",
       "      <td>CHEVROLET</td>\n",
       "      <td>Equinox</td>\n",
       "      <td>2011</td>\n",
       "      <td>Jeep</td>\n",
       "      <td>No</td>\n",
       "      <td>Petrol</td>\n",
       "      <td>3</td>\n",
       "      <td>192000 km</td>\n",
       "      <td>6.0</td>\n",
       "      <td>Tiptronic</td>\n",
       "      <td>4x4</td>\n",
       "      <td>04-May</td>\n",
       "      <td>Left wheel</td>\n",
       "      <td>Black</td>\n",
       "      <td>8</td>\n",
       "    </tr>\n",
       "    <tr>\n",
       "      <th>2</th>\n",
       "      <td>45774419</td>\n",
       "      <td>8467</td>\n",
       "      <td>-</td>\n",
       "      <td>HONDA</td>\n",
       "      <td>FIT</td>\n",
       "      <td>2006</td>\n",
       "      <td>Hatchback</td>\n",
       "      <td>No</td>\n",
       "      <td>Petrol</td>\n",
       "      <td>1.3</td>\n",
       "      <td>200000 km</td>\n",
       "      <td>4.0</td>\n",
       "      <td>Variator</td>\n",
       "      <td>Front</td>\n",
       "      <td>04-May</td>\n",
       "      <td>Right-hand drive</td>\n",
       "      <td>Black</td>\n",
       "      <td>2</td>\n",
       "    </tr>\n",
       "    <tr>\n",
       "      <th>3</th>\n",
       "      <td>45769185</td>\n",
       "      <td>3607</td>\n",
       "      <td>862</td>\n",
       "      <td>FORD</td>\n",
       "      <td>Escape</td>\n",
       "      <td>2011</td>\n",
       "      <td>Jeep</td>\n",
       "      <td>Yes</td>\n",
       "      <td>Hybrid</td>\n",
       "      <td>2.5</td>\n",
       "      <td>168966 km</td>\n",
       "      <td>4.0</td>\n",
       "      <td>Automatic</td>\n",
       "      <td>4x4</td>\n",
       "      <td>04-May</td>\n",
       "      <td>Left wheel</td>\n",
       "      <td>White</td>\n",
       "      <td>0</td>\n",
       "    </tr>\n",
       "    <tr>\n",
       "      <th>4</th>\n",
       "      <td>45809263</td>\n",
       "      <td>11726</td>\n",
       "      <td>446</td>\n",
       "      <td>HONDA</td>\n",
       "      <td>FIT</td>\n",
       "      <td>2014</td>\n",
       "      <td>Hatchback</td>\n",
       "      <td>Yes</td>\n",
       "      <td>Petrol</td>\n",
       "      <td>1.3</td>\n",
       "      <td>91901 km</td>\n",
       "      <td>4.0</td>\n",
       "      <td>Automatic</td>\n",
       "      <td>Front</td>\n",
       "      <td>04-May</td>\n",
       "      <td>Left wheel</td>\n",
       "      <td>Silver</td>\n",
       "      <td>4</td>\n",
       "    </tr>\n",
       "  </tbody>\n",
       "</table>\n",
       "</div>"
      ],
      "text/plain": [
       "         ID  Price  Levy Manufacturer    Model  Prod. year   Category  \\\n",
       "0  45654403  13328  1399        LEXUS   RX 450        2010       Jeep   \n",
       "1  44731507  16621  1018    CHEVROLET  Equinox        2011       Jeep   \n",
       "2  45774419   8467     -        HONDA      FIT        2006  Hatchback   \n",
       "3  45769185   3607   862         FORD   Escape        2011       Jeep   \n",
       "4  45809263  11726   446        HONDA      FIT        2014  Hatchback   \n",
       "\n",
       "  Leather interior Fuel type Engine volume    Mileage  Cylinders  \\\n",
       "0              Yes    Hybrid           3.5  186005 km        6.0   \n",
       "1               No    Petrol             3  192000 km        6.0   \n",
       "2               No    Petrol           1.3  200000 km        4.0   \n",
       "3              Yes    Hybrid           2.5  168966 km        4.0   \n",
       "4              Yes    Petrol           1.3   91901 km        4.0   \n",
       "\n",
       "  Gear box type Drive wheels   Doors             Wheel   Color  Airbags  \n",
       "0     Automatic          4x4  04-May        Left wheel  Silver       12  \n",
       "1     Tiptronic          4x4  04-May        Left wheel   Black        8  \n",
       "2      Variator        Front  04-May  Right-hand drive   Black        2  \n",
       "3     Automatic          4x4  04-May        Left wheel   White        0  \n",
       "4     Automatic        Front  04-May        Left wheel  Silver        4  "
      ]
     },
     "execution_count": 637,
     "metadata": {},
     "output_type": "execute_result"
    }
   ],
   "source": [
    "car = pd.read_csv(\"car_price_prediction.csv\")\n",
    "car.head()"
   ]
  },
  {
   "cell_type": "code",
   "execution_count": 638,
   "id": "c0e490e9-ac1d-47af-84a8-868b0ef69973",
   "metadata": {},
   "outputs": [
    {
     "name": "stdout",
     "output_type": "stream",
     "text": [
      "<class 'pandas.core.frame.DataFrame'>\n",
      "RangeIndex: 19237 entries, 0 to 19236\n",
      "Data columns (total 18 columns):\n",
      " #   Column            Non-Null Count  Dtype  \n",
      "---  ------            --------------  -----  \n",
      " 0   ID                19237 non-null  int64  \n",
      " 1   Price             19237 non-null  int64  \n",
      " 2   Levy              19237 non-null  object \n",
      " 3   Manufacturer      19237 non-null  object \n",
      " 4   Model             19237 non-null  object \n",
      " 5   Prod. year        19237 non-null  int64  \n",
      " 6   Category          19237 non-null  object \n",
      " 7   Leather interior  19237 non-null  object \n",
      " 8   Fuel type         19237 non-null  object \n",
      " 9   Engine volume     19237 non-null  object \n",
      " 10  Mileage           19237 non-null  object \n",
      " 11  Cylinders         19237 non-null  float64\n",
      " 12  Gear box type     19237 non-null  object \n",
      " 13  Drive wheels      19237 non-null  object \n",
      " 14  Doors             19237 non-null  object \n",
      " 15  Wheel             19237 non-null  object \n",
      " 16  Color             19237 non-null  object \n",
      " 17  Airbags           19237 non-null  int64  \n",
      "dtypes: float64(1), int64(4), object(13)\n",
      "memory usage: 2.6+ MB\n"
     ]
    }
   ],
   "source": [
    "car.info()"
   ]
  },
  {
   "cell_type": "code",
   "execution_count": 639,
   "id": "4088face-ffda-4795-81a0-5c1372d5eece",
   "metadata": {},
   "outputs": [
    {
     "data": {
      "text/plain": [
       "(559,\n",
       " array(['1399', '1018', '-', '862', '446', '891', '761', '751', '394',\n",
       "        '1053', '1055', '1079', '810', '2386', '1850', '531', '586',\n",
       "        '1249', '2455', '583', '1537', '1288', '915', '1750', '707',\n",
       "        '1077', '1486', '1091', '650', '382', '1436', '1194', '503',\n",
       "        '1017', '1104', '639', '629', '919', '781', '530', '640', '765',\n",
       "        '777', '779', '934', '769', '645', '1185', '1324', '830', '1187',\n",
       "        '1111', '760', '642', '1604', '1095', '966', '473', '1138', '1811',\n",
       "        '988', '917', '1156', '687', '11714', '836', '1347', '2866',\n",
       "        '1646', '259', '609', '697', '585', '475', '690', '308', '1823',\n",
       "        '1361', '1273', '924', '584', '2078', '831', '1172', '893', '1872',\n",
       "        '1885', '1266', '447', '2148', '1730', '730', '289', '502', '333',\n",
       "        '1325', '247', '879', '1342', '1327', '1598', '1514', '1058',\n",
       "        '738', '1935', '481', '1522', '1282', '456', '880', '900', '798',\n",
       "        '1277', '442', '1051', '790', '1292', '1047', '528', '1211',\n",
       "        '1493', '1793', '574', '930', '1998', '271', '706', '1481', '1677',\n",
       "        '1661', '1286', '1408', '1090', '595', '1451', '1267', '993',\n",
       "        '1714', '878', '641', '749', '1511', '603', '353', '877', '1236',\n",
       "        '1141', '397', '784', '1024', '1357', '1301', '770', '922', '1438',\n",
       "        '753', '607', '1363', '638', '490', '431', '565', '517', '833',\n",
       "        '489', '1760', '986', '1841', '1620', '1360', '474', '1099', '978',\n",
       "        '1624', '1946', '1268', '1307', '696', '649', '666', '2151', '551',\n",
       "        '800', '971', '1323', '2377', '1845', '1083', '694', '463', '419',\n",
       "        '345', '1515', '1505', '2056', '1203', '729', '460', '1356', '876',\n",
       "        '911', '1190', '780', '448', '2410', '1848', '1148', '834', '1275',\n",
       "        '1028', '1197', '724', '890', '1705', '505', '789', '2959', '518',\n",
       "        '461', '1719', '2858', '3156', '2225', '2177', '1968', '1888',\n",
       "        '1308', '2736', '1103', '557', '2195', '843', '1664', '723',\n",
       "        '4508', '562', '501', '2018', '1076', '1202', '3301', '691',\n",
       "        '1440', '1869', '1178', '418', '1820', '1413', '488', '1304',\n",
       "        '363', '2108', '521', '1659', '87', '1411', '1528', '3292', '7058',\n",
       "        '1578', '627', '874', '1996', '1488', '5679', '1234', '5603',\n",
       "        '400', '889', '3268', '875', '949', '2265', '441', '742', '425',\n",
       "        '2476', '2971', '614', '1816', '1375', '1405', '2297', '1062',\n",
       "        '1113', '420', '2469', '658', '1951', '2670', '2578', '1995',\n",
       "        '1032', '994', '1011', '2421', '1296', '155', '494', '426', '1086',\n",
       "        '961', '2236', '1829', '764', '1834', '1054', '617', '1529',\n",
       "        '2266', '637', '626', '1832', '1016', '2002', '1756', '746',\n",
       "        '1285', '2690', '1118', '5332', '980', '1807', '970', '1228',\n",
       "        '1195', '1132', '1768', '1384', '1080', '7063', '1817', '1452',\n",
       "        '1975', '1368', '702', '1974', '1781', '1036', '944', '663', '364',\n",
       "        '1539', '1345', '1680', '2209', '741', '1575', '695', '1317',\n",
       "        '294', '1525', '424', '997', '1473', '1552', '2819', '2188',\n",
       "        '1668', '3057', '799', '1502', '2606', '552', '1694', '1759',\n",
       "        '1110', '399', '1470', '1174', '5877', '1474', '1688', '526',\n",
       "        '686', '5908', '1107', '2070', '1468', '1246', '1685', '556',\n",
       "        '1533', '1917', '1346', '732', '692', '579', '421', '362', '3505',\n",
       "        '1855', '2711', '1586', '3739', '681', '1708', '2278', '1701',\n",
       "        '722', '1482', '928', '827', '832', '527', '604', '173', '1341',\n",
       "        '3329', '1553', '859', '167', '916', '828', '2082', '1176', '1108',\n",
       "        '975', '3008', '1516', '2269', '1699', '2073', '1031', '1503',\n",
       "        '2364', '1030', '1442', '5666', '2715', '1437', '2067', '1426',\n",
       "        '2908', '1279', '866', '4283', '279', '2658', '3015', '2004',\n",
       "        '1391', '4736', '748', '1466', '644', '683', '2705', '1297', '731',\n",
       "        '1252', '2216', '3141', '3273', '1518', '1723', '1588', '972',\n",
       "        '682', '1094', '668', '175', '967', '402', '3894', '1960', '1599',\n",
       "        '2000', '2084', '1621', '714', '1109', '3989', '873', '1572',\n",
       "        '1163', '1991', '1716', '1673', '2562', '2874', '965', '462',\n",
       "        '605', '1948', '1736', '3518', '2054', '2467', '1681', '1272',\n",
       "        '1205', '750', '2156', '2566', '115', '524', '3184', '676', '1678',\n",
       "        '612', '328', '955', '1441', '1675', '3965', '2909', '623', '822',\n",
       "        '867', '3025', '1993', '792', '636', '4057', '3743', '2337',\n",
       "        '2570', '2418', '2472', '3910', '1662', '2123', '2628', '3208',\n",
       "        '2080', '3699', '2913', '864', '2505', '870', '7536', '1924',\n",
       "        '1671', '1064', '1836', '1866', '4741', '841', '1369', '5681',\n",
       "        '3112', '1366', '2223', '1198', '1039', '3811', '3571', '1387',\n",
       "        '1171', '1365', '1531', '1590', '11706', '2308', '4860', '1641',\n",
       "        '1045', '1901'], dtype=object),\n",
       " -       5819\n",
       " 765      486\n",
       " 891      461\n",
       " 639      410\n",
       " 640      405\n",
       "         ... \n",
       " 2421       1\n",
       " 827        1\n",
       " 3811       1\n",
       " 3301       1\n",
       " 2236       1\n",
       " Name: Levy, Length: 559, dtype: int64)"
      ]
     },
     "execution_count": 639,
     "metadata": {},
     "output_type": "execute_result"
    }
   ],
   "source": [
    "# Unique Values\n",
    "car['Levy'].nunique(), car['Levy'].unique(), car['Levy'].value_counts()"
   ]
  },
  {
   "cell_type": "code",
   "execution_count": 640,
   "id": "313e0703-72c3-4676-8b81-12cab6a795aa",
   "metadata": {},
   "outputs": [
    {
     "data": {
      "text/plain": [
       "(1590,)"
      ]
     },
     "execution_count": 640,
     "metadata": {},
     "output_type": "execute_result"
    }
   ],
   "source": [
    "# Unique model name\n",
    "np.shape(car['Model'].unique())"
   ]
  },
  {
   "cell_type": "code",
   "execution_count": 641,
   "id": "1c3ba095-0c05-4dce-b231-86cbbc885333",
   "metadata": {},
   "outputs": [
    {
     "data": {
      "text/plain": [
       "array(['Jeep', 'Hatchback', 'Sedan', 'Microbus', 'Goods wagon',\n",
       "       'Universal', 'Coupe', 'Minivan', 'Cabriolet', 'Limousine',\n",
       "       'Pickup'], dtype=object)"
      ]
     },
     "execution_count": 641,
     "metadata": {},
     "output_type": "execute_result"
    }
   ],
   "source": [
    "car['Category'].unique()"
   ]
  },
  {
   "cell_type": "code",
   "execution_count": 642,
   "id": "17f8d4cc-9fbd-4edb-9d7d-e25b99e25642",
   "metadata": {},
   "outputs": [
    {
     "data": {
      "text/plain": [
       "array(['Yes', 'No'], dtype=object)"
      ]
     },
     "execution_count": 642,
     "metadata": {},
     "output_type": "execute_result"
    }
   ],
   "source": [
    "car['Leather interior'].unique()"
   ]
  },
  {
   "cell_type": "code",
   "execution_count": 643,
   "id": "c55fc1cb-5652-4b82-a616-e5ba07749899",
   "metadata": {},
   "outputs": [
    {
     "data": {
      "text/plain": [
       "array(['Hybrid', 'Petrol', 'Diesel', 'CNG', 'Plug-in Hybrid', 'LPG',\n",
       "       'Hydrogen'], dtype=object)"
      ]
     },
     "execution_count": 643,
     "metadata": {},
     "output_type": "execute_result"
    }
   ],
   "source": [
    "car['Fuel type'].unique()"
   ]
  },
  {
   "cell_type": "code",
   "execution_count": 644,
   "id": "f341fe96-ede7-41b3-8015-08c56938df27",
   "metadata": {},
   "outputs": [
    {
     "data": {
      "text/plain": [
       "array(['3.5', '3', '1.3', '2.5', '2', '1.8', '2.4', '4', '1.6', '3.3',\n",
       "       '2.0 Turbo', '2.2 Turbo', '4.7', '1.5', '4.4', '3.0 Turbo',\n",
       "       '1.4 Turbo', '3.6', '2.3', '1.5 Turbo', '1.6 Turbo', '2.2',\n",
       "       '2.3 Turbo', '1.4', '5.5', '2.8 Turbo', '3.2', '3.8', '4.6', '1.2',\n",
       "       '5', '1.7', '2.9', '0.5', '1.8 Turbo', '2.4 Turbo', '3.5 Turbo',\n",
       "       '1.9', '2.7', '4.8', '5.3', '0.4', '2.8', '3.2 Turbo', '1.1',\n",
       "       '2.1', '0.7', '5.4', '1.3 Turbo', '3.7', '1', '2.5 Turbo', '2.6',\n",
       "       '1.9 Turbo', '4.4 Turbo', '4.7 Turbo', '0.8', '0.2 Turbo', '5.7',\n",
       "       '4.8 Turbo', '4.6 Turbo', '6.7', '6.2', '1.2 Turbo', '3.4',\n",
       "       '1.7 Turbo', '6.3 Turbo', '2.7 Turbo', '4.3', '4.2', '2.9 Turbo',\n",
       "       '0', '4.0 Turbo', '20', '3.6 Turbo', '0.3', '3.7 Turbo', '5.9',\n",
       "       '5.5 Turbo', '0.2', '2.1 Turbo', '5.6', '6', '0.7 Turbo',\n",
       "       '0.6 Turbo', '6.8', '4.5', '0.6', '7.3', '0.1', '1.0 Turbo', '6.3',\n",
       "       '4.5 Turbo', '0.8 Turbo', '4.2 Turbo', '3.1', '5.0 Turbo', '6.4',\n",
       "       '3.9', '5.7 Turbo', '0.9', '0.4 Turbo', '5.4 Turbo', '0.3 Turbo',\n",
       "       '5.2', '5.8', '1.1 Turbo'], dtype=object)"
      ]
     },
     "execution_count": 644,
     "metadata": {},
     "output_type": "execute_result"
    }
   ],
   "source": [
    "car['Engine volume'].unique()"
   ]
  },
  {
   "cell_type": "code",
   "execution_count": 645,
   "id": "a1309ada-77f8-4cf8-a997-2873da97cce6",
   "metadata": {},
   "outputs": [
    {
     "data": {
      "text/plain": [
       "array(['3.5', '3', '1.3', '2.5', '2', '1.8', '2.4', '4', '1.6', '3.3',\n",
       "       '2.0', '2.2', '4.7', '1.5', '4.4', '3.0', '1.4', '3.6', '2.3',\n",
       "       '5.5', '2.8', '3.2', '3.8', '4.6', '1.2', '5', '1.7', '2.9', '0.5',\n",
       "       '1.9', '2.7', '4.8', '5.3', '0.4', '1.1', '2.1', '0.7', '5.4',\n",
       "       '3.7', '1', '2.6', '0.8', '0.2', '5.7', '6.7', '6.2', '3.4', '6.3',\n",
       "       '4.3', '4.2', '0', '4.0', '20', '0.3', '5.9', '5.6', '6', '0.6',\n",
       "       '6.8', '4.5', '7.3', '0.1', '1.0', '3.1', '5.0', '6.4', '3.9',\n",
       "       '0.9', '5.2', '5.8'], dtype=object)"
      ]
     },
     "execution_count": 645,
     "metadata": {},
     "output_type": "execute_result"
    }
   ],
   "source": [
    "car['Engine volume'].apply(lambda x: x.split(' ')[0]).unique()"
   ]
  },
  {
   "cell_type": "code",
   "execution_count": 646,
   "id": "89f84051-87c0-4ce4-abce-fa7a4a4277d9",
   "metadata": {},
   "outputs": [
    {
     "data": {
      "text/plain": [
       "0        N\n",
       "1        N\n",
       "2        N\n",
       "3        N\n",
       "4        N\n",
       "        ..\n",
       "19232    Y\n",
       "19233    N\n",
       "19234    N\n",
       "19235    N\n",
       "19236    N\n",
       "Name: Engine volume, Length: 19237, dtype: object"
      ]
     },
     "execution_count": 646,
     "metadata": {},
     "output_type": "execute_result"
    }
   ],
   "source": [
    "car['Engine volume'].apply(lambda x: x.split(' ')).apply(lambda x: 'Y' if 'Turbo' in x else 'N')"
   ]
  },
  {
   "cell_type": "code",
   "execution_count": 647,
   "id": "2d1253ce-2ec5-490a-8395-e8876ba6c290",
   "metadata": {},
   "outputs": [
    {
     "data": {
      "text/plain": [
       "array(['3.5', '3', '1.3', '2.5', '2', '1.8', '2.4', '4', '1.6', '3.3',\n",
       "       '2.0 Turbo', '2.2 Turbo', '4.7', '1.5', '4.4', '3.0 Turbo',\n",
       "       '1.4 Turbo', '3.6', '2.3', '1.5 Turbo', '1.6 Turbo', '2.2',\n",
       "       '2.3 Turbo', '1.4', '5.5', '2.8 Turbo', '3.2', '3.8', '4.6', '1.2',\n",
       "       '5', '1.7', '2.9', '0.5', '1.8 Turbo', '2.4 Turbo', '3.5 Turbo',\n",
       "       '1.9', '2.7', '4.8', '5.3', '0.4', '2.8', '3.2 Turbo', '1.1',\n",
       "       '2.1', '0.7', '5.4', '1.3 Turbo', '3.7', '1', '2.5 Turbo', '2.6',\n",
       "       '1.9 Turbo', '4.4 Turbo', '4.7 Turbo', '0.8', '0.2 Turbo', '5.7',\n",
       "       '4.8 Turbo', '4.6 Turbo', '6.7', '6.2', '1.2 Turbo', '3.4',\n",
       "       '1.7 Turbo', '6.3 Turbo', '2.7 Turbo', '4.3', '4.2', '2.9 Turbo',\n",
       "       '0', '4.0 Turbo', '20', '3.6 Turbo', '0.3', '3.7 Turbo', '5.9',\n",
       "       '5.5 Turbo', '0.2', '2.1 Turbo', '5.6', '6', '0.7 Turbo',\n",
       "       '0.6 Turbo', '6.8', '4.5', '0.6', '7.3', '0.1', '1.0 Turbo', '6.3',\n",
       "       '4.5 Turbo', '0.8 Turbo', '4.2 Turbo', '3.1', '5.0 Turbo', '6.4',\n",
       "       '3.9', '5.7 Turbo', '0.9', '0.4 Turbo', '5.4 Turbo', '0.3 Turbo',\n",
       "       '5.2', '5.8', '1.1 Turbo'], dtype=object)"
      ]
     },
     "execution_count": 647,
     "metadata": {},
     "output_type": "execute_result"
    }
   ],
   "source": [
    "car['Engine volume'].unique()"
   ]
  },
  {
   "cell_type": "code",
   "execution_count": 648,
   "id": "150affe0-5226-40ef-93d1-0d4c70007864",
   "metadata": {},
   "outputs": [
    {
     "data": {
      "text/html": [
       "<div>\n",
       "<style scoped>\n",
       "    .dataframe tbody tr th:only-of-type {\n",
       "        vertical-align: middle;\n",
       "    }\n",
       "\n",
       "    .dataframe tbody tr th {\n",
       "        vertical-align: top;\n",
       "    }\n",
       "\n",
       "    .dataframe thead th {\n",
       "        text-align: right;\n",
       "    }\n",
       "</style>\n",
       "<table border=\"1\" class=\"dataframe\">\n",
       "  <thead>\n",
       "    <tr style=\"text-align: right;\">\n",
       "      <th></th>\n",
       "      <th>ID</th>\n",
       "      <th>Price</th>\n",
       "      <th>Levy</th>\n",
       "      <th>Manufacturer</th>\n",
       "      <th>Model</th>\n",
       "      <th>Prod. year</th>\n",
       "      <th>Category</th>\n",
       "      <th>Leather interior</th>\n",
       "      <th>Fuel type</th>\n",
       "      <th>Engine volume</th>\n",
       "      <th>Mileage</th>\n",
       "      <th>Cylinders</th>\n",
       "      <th>Gear box type</th>\n",
       "      <th>Drive wheels</th>\n",
       "      <th>Doors</th>\n",
       "      <th>Wheel</th>\n",
       "      <th>Color</th>\n",
       "      <th>Airbags</th>\n",
       "    </tr>\n",
       "  </thead>\n",
       "  <tbody>\n",
       "    <tr>\n",
       "      <th>0</th>\n",
       "      <td>45654403</td>\n",
       "      <td>13328</td>\n",
       "      <td>1399</td>\n",
       "      <td>LEXUS</td>\n",
       "      <td>RX 450</td>\n",
       "      <td>2010</td>\n",
       "      <td>Jeep</td>\n",
       "      <td>Yes</td>\n",
       "      <td>Hybrid</td>\n",
       "      <td>3.5</td>\n",
       "      <td>186005 km</td>\n",
       "      <td>6.0</td>\n",
       "      <td>Automatic</td>\n",
       "      <td>4x4</td>\n",
       "      <td>04-May</td>\n",
       "      <td>Left wheel</td>\n",
       "      <td>Silver</td>\n",
       "      <td>12</td>\n",
       "    </tr>\n",
       "    <tr>\n",
       "      <th>1</th>\n",
       "      <td>44731507</td>\n",
       "      <td>16621</td>\n",
       "      <td>1018</td>\n",
       "      <td>CHEVROLET</td>\n",
       "      <td>Equinox</td>\n",
       "      <td>2011</td>\n",
       "      <td>Jeep</td>\n",
       "      <td>No</td>\n",
       "      <td>Petrol</td>\n",
       "      <td>3</td>\n",
       "      <td>192000 km</td>\n",
       "      <td>6.0</td>\n",
       "      <td>Tiptronic</td>\n",
       "      <td>4x4</td>\n",
       "      <td>04-May</td>\n",
       "      <td>Left wheel</td>\n",
       "      <td>Black</td>\n",
       "      <td>8</td>\n",
       "    </tr>\n",
       "    <tr>\n",
       "      <th>2</th>\n",
       "      <td>45774419</td>\n",
       "      <td>8467</td>\n",
       "      <td>-</td>\n",
       "      <td>HONDA</td>\n",
       "      <td>FIT</td>\n",
       "      <td>2006</td>\n",
       "      <td>Hatchback</td>\n",
       "      <td>No</td>\n",
       "      <td>Petrol</td>\n",
       "      <td>1.3</td>\n",
       "      <td>200000 km</td>\n",
       "      <td>4.0</td>\n",
       "      <td>Variator</td>\n",
       "      <td>Front</td>\n",
       "      <td>04-May</td>\n",
       "      <td>Right-hand drive</td>\n",
       "      <td>Black</td>\n",
       "      <td>2</td>\n",
       "    </tr>\n",
       "    <tr>\n",
       "      <th>3</th>\n",
       "      <td>45769185</td>\n",
       "      <td>3607</td>\n",
       "      <td>862</td>\n",
       "      <td>FORD</td>\n",
       "      <td>Escape</td>\n",
       "      <td>2011</td>\n",
       "      <td>Jeep</td>\n",
       "      <td>Yes</td>\n",
       "      <td>Hybrid</td>\n",
       "      <td>2.5</td>\n",
       "      <td>168966 km</td>\n",
       "      <td>4.0</td>\n",
       "      <td>Automatic</td>\n",
       "      <td>4x4</td>\n",
       "      <td>04-May</td>\n",
       "      <td>Left wheel</td>\n",
       "      <td>White</td>\n",
       "      <td>0</td>\n",
       "    </tr>\n",
       "    <tr>\n",
       "      <th>4</th>\n",
       "      <td>45809263</td>\n",
       "      <td>11726</td>\n",
       "      <td>446</td>\n",
       "      <td>HONDA</td>\n",
       "      <td>FIT</td>\n",
       "      <td>2014</td>\n",
       "      <td>Hatchback</td>\n",
       "      <td>Yes</td>\n",
       "      <td>Petrol</td>\n",
       "      <td>1.3</td>\n",
       "      <td>91901 km</td>\n",
       "      <td>4.0</td>\n",
       "      <td>Automatic</td>\n",
       "      <td>Front</td>\n",
       "      <td>04-May</td>\n",
       "      <td>Left wheel</td>\n",
       "      <td>Silver</td>\n",
       "      <td>4</td>\n",
       "    </tr>\n",
       "  </tbody>\n",
       "</table>\n",
       "</div>"
      ],
      "text/plain": [
       "         ID  Price  Levy Manufacturer    Model  Prod. year   Category  \\\n",
       "0  45654403  13328  1399        LEXUS   RX 450        2010       Jeep   \n",
       "1  44731507  16621  1018    CHEVROLET  Equinox        2011       Jeep   \n",
       "2  45774419   8467     -        HONDA      FIT        2006  Hatchback   \n",
       "3  45769185   3607   862         FORD   Escape        2011       Jeep   \n",
       "4  45809263  11726   446        HONDA      FIT        2014  Hatchback   \n",
       "\n",
       "  Leather interior Fuel type Engine volume    Mileage  Cylinders  \\\n",
       "0              Yes    Hybrid           3.5  186005 km        6.0   \n",
       "1               No    Petrol             3  192000 km        6.0   \n",
       "2               No    Petrol           1.3  200000 km        4.0   \n",
       "3              Yes    Hybrid           2.5  168966 km        4.0   \n",
       "4              Yes    Petrol           1.3   91901 km        4.0   \n",
       "\n",
       "  Gear box type Drive wheels   Doors             Wheel   Color  Airbags  \n",
       "0     Automatic          4x4  04-May        Left wheel  Silver       12  \n",
       "1     Tiptronic          4x4  04-May        Left wheel   Black        8  \n",
       "2      Variator        Front  04-May  Right-hand drive   Black        2  \n",
       "3     Automatic          4x4  04-May        Left wheel   White        0  \n",
       "4     Automatic        Front  04-May        Left wheel  Silver        4  "
      ]
     },
     "execution_count": 648,
     "metadata": {},
     "output_type": "execute_result"
    }
   ],
   "source": [
    "# Now it's time to change the DF\n",
    "car_for_pred = car.copy()\n",
    "car_for_pred.head()"
   ]
  },
  {
   "cell_type": "code",
   "execution_count": 649,
   "id": "afacc205-e800-4d0c-a915-aad5d8c7ee78",
   "metadata": {},
   "outputs": [],
   "source": [
    "car_for_pred['Engine Volume'] = car_for_pred['Engine volume'].apply(lambda x: x.split(' ')[0]).astype(float)"
   ]
  },
  {
   "cell_type": "code",
   "execution_count": 650,
   "id": "ca041f45-b4cb-4ae2-b935-07e74aa28ac2",
   "metadata": {},
   "outputs": [
    {
     "name": "stdout",
     "output_type": "stream",
     "text": [
      "<class 'pandas.core.frame.DataFrame'>\n",
      "RangeIndex: 19237 entries, 0 to 19236\n",
      "Data columns (total 19 columns):\n",
      " #   Column            Non-Null Count  Dtype  \n",
      "---  ------            --------------  -----  \n",
      " 0   ID                19237 non-null  int64  \n",
      " 1   Price             19237 non-null  int64  \n",
      " 2   Levy              19237 non-null  object \n",
      " 3   Manufacturer      19237 non-null  object \n",
      " 4   Model             19237 non-null  object \n",
      " 5   Prod. year        19237 non-null  int64  \n",
      " 6   Category          19237 non-null  object \n",
      " 7   Leather interior  19237 non-null  object \n",
      " 8   Fuel type         19237 non-null  object \n",
      " 9   Engine volume     19237 non-null  object \n",
      " 10  Mileage           19237 non-null  object \n",
      " 11  Cylinders         19237 non-null  float64\n",
      " 12  Gear box type     19237 non-null  object \n",
      " 13  Drive wheels      19237 non-null  object \n",
      " 14  Doors             19237 non-null  object \n",
      " 15  Wheel             19237 non-null  object \n",
      " 16  Color             19237 non-null  object \n",
      " 17  Airbags           19237 non-null  int64  \n",
      " 18  Engine Volume     19237 non-null  float64\n",
      "dtypes: float64(2), int64(4), object(13)\n",
      "memory usage: 2.8+ MB\n"
     ]
    }
   ],
   "source": [
    "car_for_pred.info()"
   ]
  },
  {
   "cell_type": "code",
   "execution_count": 651,
   "id": "a2c6328c-c9de-4f7f-9c3a-97c4d9991211",
   "metadata": {},
   "outputs": [],
   "source": [
    "car_for_pred['Engine_Turbo'] = car_for_pred['Engine volume'].apply(lambda x: x.split(' ')).apply(lambda x: 'Y' if 'Turbo' in x else 'N')"
   ]
  },
  {
   "cell_type": "code",
   "execution_count": 652,
   "id": "1c372ea3-fd4e-487e-b69c-af4ced44ca18",
   "metadata": {},
   "outputs": [
    {
     "name": "stdout",
     "output_type": "stream",
     "text": [
      "<class 'pandas.core.frame.DataFrame'>\n",
      "RangeIndex: 19237 entries, 0 to 19236\n",
      "Data columns (total 20 columns):\n",
      " #   Column            Non-Null Count  Dtype  \n",
      "---  ------            --------------  -----  \n",
      " 0   ID                19237 non-null  int64  \n",
      " 1   Price             19237 non-null  int64  \n",
      " 2   Levy              19237 non-null  object \n",
      " 3   Manufacturer      19237 non-null  object \n",
      " 4   Model             19237 non-null  object \n",
      " 5   Prod. year        19237 non-null  int64  \n",
      " 6   Category          19237 non-null  object \n",
      " 7   Leather interior  19237 non-null  object \n",
      " 8   Fuel type         19237 non-null  object \n",
      " 9   Engine volume     19237 non-null  object \n",
      " 10  Mileage           19237 non-null  object \n",
      " 11  Cylinders         19237 non-null  float64\n",
      " 12  Gear box type     19237 non-null  object \n",
      " 13  Drive wheels      19237 non-null  object \n",
      " 14  Doors             19237 non-null  object \n",
      " 15  Wheel             19237 non-null  object \n",
      " 16  Color             19237 non-null  object \n",
      " 17  Airbags           19237 non-null  int64  \n",
      " 18  Engine Volume     19237 non-null  float64\n",
      " 19  Engine_Turbo      19237 non-null  object \n",
      "dtypes: float64(2), int64(4), object(14)\n",
      "memory usage: 2.9+ MB\n"
     ]
    }
   ],
   "source": [
    "car_for_pred.info()"
   ]
  },
  {
   "cell_type": "code",
   "execution_count": 653,
   "id": "3381a2ac-2349-471b-a76d-5f126c799cb7",
   "metadata": {},
   "outputs": [],
   "source": [
    "car_for_pred.drop(columns=['Engine volume'], inplace=True)"
   ]
  },
  {
   "cell_type": "code",
   "execution_count": 654,
   "id": "7800ef79-32ad-4ffa-aeb1-7792f7208ae3",
   "metadata": {},
   "outputs": [
    {
     "name": "stdout",
     "output_type": "stream",
     "text": [
      "<class 'pandas.core.frame.DataFrame'>\n",
      "RangeIndex: 19237 entries, 0 to 19236\n",
      "Data columns (total 19 columns):\n",
      " #   Column            Non-Null Count  Dtype  \n",
      "---  ------            --------------  -----  \n",
      " 0   ID                19237 non-null  int64  \n",
      " 1   Price             19237 non-null  int64  \n",
      " 2   Levy              19237 non-null  object \n",
      " 3   Manufacturer      19237 non-null  object \n",
      " 4   Model             19237 non-null  object \n",
      " 5   Prod. year        19237 non-null  int64  \n",
      " 6   Category          19237 non-null  object \n",
      " 7   Leather interior  19237 non-null  object \n",
      " 8   Fuel type         19237 non-null  object \n",
      " 9   Mileage           19237 non-null  object \n",
      " 10  Cylinders         19237 non-null  float64\n",
      " 11  Gear box type     19237 non-null  object \n",
      " 12  Drive wheels      19237 non-null  object \n",
      " 13  Doors             19237 non-null  object \n",
      " 14  Wheel             19237 non-null  object \n",
      " 15  Color             19237 non-null  object \n",
      " 16  Airbags           19237 non-null  int64  \n",
      " 17  Engine Volume     19237 non-null  float64\n",
      " 18  Engine_Turbo      19237 non-null  object \n",
      "dtypes: float64(2), int64(4), object(13)\n",
      "memory usage: 2.8+ MB\n"
     ]
    }
   ],
   "source": [
    "car_for_pred.info()"
   ]
  },
  {
   "cell_type": "code",
   "execution_count": 655,
   "id": "e205e1ab-d70c-4851-a33b-a21fa6d3c739",
   "metadata": {},
   "outputs": [
    {
     "name": "stdout",
     "output_type": "stream",
     "text": [
      "<class 'pandas.core.frame.DataFrame'>\n",
      "RangeIndex: 19237 entries, 0 to 19236\n",
      "Data columns (total 19 columns):\n",
      " #   Column            Non-Null Count  Dtype  \n",
      "---  ------            --------------  -----  \n",
      " 0   ID                19237 non-null  int64  \n",
      " 1   Price             19237 non-null  int64  \n",
      " 2   Levy              19237 non-null  object \n",
      " 3   Manufacturer      19237 non-null  object \n",
      " 4   Model             19237 non-null  object \n",
      " 5   Prod. year        19237 non-null  int64  \n",
      " 6   Category          19237 non-null  object \n",
      " 7   Leather interior  19237 non-null  object \n",
      " 8   Fuel type         19237 non-null  object \n",
      " 9   Mileage           19237 non-null  int64  \n",
      " 10  Cylinders         19237 non-null  float64\n",
      " 11  Gear box type     19237 non-null  object \n",
      " 12  Drive wheels      19237 non-null  object \n",
      " 13  Doors             19237 non-null  object \n",
      " 14  Wheel             19237 non-null  object \n",
      " 15  Color             19237 non-null  object \n",
      " 16  Airbags           19237 non-null  int64  \n",
      " 17  Engine Volume     19237 non-null  float64\n",
      " 18  Engine_Turbo      19237 non-null  object \n",
      "dtypes: float64(2), int64(5), object(12)\n",
      "memory usage: 2.8+ MB\n"
     ]
    }
   ],
   "source": [
    "car_for_pred['Mileage'] = car_for_pred['Mileage'].apply(lambda x: int(x.split()[0]))\n",
    "car_for_pred.info()"
   ]
  },
  {
   "cell_type": "code",
   "execution_count": 656,
   "id": "8e36f83c-b8c0-456d-9056-fa82296969ca",
   "metadata": {},
   "outputs": [
    {
     "data": {
      "text/plain": [
       "array([ 6.,  4.,  8.,  1., 12.,  3.,  2., 16.,  5.,  7.,  9., 10., 14.])"
      ]
     },
     "execution_count": 656,
     "metadata": {},
     "output_type": "execute_result"
    }
   ],
   "source": [
    "car_for_pred.Cylinders.unique()"
   ]
  },
  {
   "cell_type": "code",
   "execution_count": 657,
   "id": "a191cd9a-a723-4e2f-a6e7-8bef43482a83",
   "metadata": {},
   "outputs": [
    {
     "data": {
      "text/plain": [
       "array(['Automatic', 'Tiptronic', 'Variator', 'Manual'], dtype=object)"
      ]
     },
     "execution_count": 657,
     "metadata": {},
     "output_type": "execute_result"
    }
   ],
   "source": [
    "car_for_pred['Gear box type'].unique()"
   ]
  },
  {
   "cell_type": "code",
   "execution_count": 658,
   "id": "37db0427-299b-4fa0-b42a-b5dbc871eba7",
   "metadata": {},
   "outputs": [
    {
     "data": {
      "text/plain": [
       "array(['4x4', 'Front', 'Rear'], dtype=object)"
      ]
     },
     "execution_count": 658,
     "metadata": {},
     "output_type": "execute_result"
    }
   ],
   "source": [
    "car_for_pred['Drive wheels'].unique()"
   ]
  },
  {
   "cell_type": "code",
   "execution_count": 659,
   "id": "15fb145f-7cd1-4318-9c76-aa42d39ccb52",
   "metadata": {},
   "outputs": [
    {
     "data": {
      "text/plain": [
       "array(['04-May', '02-Mar', '>5'], dtype=object)"
      ]
     },
     "execution_count": 659,
     "metadata": {},
     "output_type": "execute_result"
    }
   ],
   "source": [
    "car_for_pred['Doors'].unique()"
   ]
  },
  {
   "cell_type": "code",
   "execution_count": 660,
   "id": "bdcb417e-a600-4f06-8440-cf7273be0734",
   "metadata": {},
   "outputs": [
    {
     "data": {
      "text/html": [
       "<div>\n",
       "<style scoped>\n",
       "    .dataframe tbody tr th:only-of-type {\n",
       "        vertical-align: middle;\n",
       "    }\n",
       "\n",
       "    .dataframe tbody tr th {\n",
       "        vertical-align: top;\n",
       "    }\n",
       "\n",
       "    .dataframe thead th {\n",
       "        text-align: right;\n",
       "    }\n",
       "</style>\n",
       "<table border=\"1\" class=\"dataframe\">\n",
       "  <thead>\n",
       "    <tr style=\"text-align: right;\">\n",
       "      <th></th>\n",
       "      <th>ID</th>\n",
       "      <th>Price</th>\n",
       "      <th>Levy</th>\n",
       "      <th>Manufacturer</th>\n",
       "      <th>Model</th>\n",
       "      <th>Prod. year</th>\n",
       "      <th>Category</th>\n",
       "      <th>Leather interior</th>\n",
       "      <th>Fuel type</th>\n",
       "      <th>Mileage</th>\n",
       "      <th>Cylinders</th>\n",
       "      <th>Gear box type</th>\n",
       "      <th>Drive wheels</th>\n",
       "      <th>Doors</th>\n",
       "      <th>Wheel</th>\n",
       "      <th>Color</th>\n",
       "      <th>Airbags</th>\n",
       "      <th>Engine Volume</th>\n",
       "      <th>Engine_Turbo</th>\n",
       "    </tr>\n",
       "  </thead>\n",
       "  <tbody>\n",
       "    <tr>\n",
       "      <th>0</th>\n",
       "      <td>45654403</td>\n",
       "      <td>13328</td>\n",
       "      <td>1399</td>\n",
       "      <td>LEXUS</td>\n",
       "      <td>RX 450</td>\n",
       "      <td>2010</td>\n",
       "      <td>Jeep</td>\n",
       "      <td>Yes</td>\n",
       "      <td>Hybrid</td>\n",
       "      <td>186005</td>\n",
       "      <td>6.0</td>\n",
       "      <td>Automatic</td>\n",
       "      <td>4x4</td>\n",
       "      <td>04-May</td>\n",
       "      <td>Left wheel</td>\n",
       "      <td>Silver</td>\n",
       "      <td>12</td>\n",
       "      <td>3.5</td>\n",
       "      <td>N</td>\n",
       "    </tr>\n",
       "    <tr>\n",
       "      <th>1</th>\n",
       "      <td>44731507</td>\n",
       "      <td>16621</td>\n",
       "      <td>1018</td>\n",
       "      <td>CHEVROLET</td>\n",
       "      <td>Equinox</td>\n",
       "      <td>2011</td>\n",
       "      <td>Jeep</td>\n",
       "      <td>No</td>\n",
       "      <td>Petrol</td>\n",
       "      <td>192000</td>\n",
       "      <td>6.0</td>\n",
       "      <td>Tiptronic</td>\n",
       "      <td>4x4</td>\n",
       "      <td>04-May</td>\n",
       "      <td>Left wheel</td>\n",
       "      <td>Black</td>\n",
       "      <td>8</td>\n",
       "      <td>3.0</td>\n",
       "      <td>N</td>\n",
       "    </tr>\n",
       "    <tr>\n",
       "      <th>2</th>\n",
       "      <td>45774419</td>\n",
       "      <td>8467</td>\n",
       "      <td>-</td>\n",
       "      <td>HONDA</td>\n",
       "      <td>FIT</td>\n",
       "      <td>2006</td>\n",
       "      <td>Hatchback</td>\n",
       "      <td>No</td>\n",
       "      <td>Petrol</td>\n",
       "      <td>200000</td>\n",
       "      <td>4.0</td>\n",
       "      <td>Variator</td>\n",
       "      <td>Front</td>\n",
       "      <td>04-May</td>\n",
       "      <td>Right-hand drive</td>\n",
       "      <td>Black</td>\n",
       "      <td>2</td>\n",
       "      <td>1.3</td>\n",
       "      <td>N</td>\n",
       "    </tr>\n",
       "    <tr>\n",
       "      <th>3</th>\n",
       "      <td>45769185</td>\n",
       "      <td>3607</td>\n",
       "      <td>862</td>\n",
       "      <td>FORD</td>\n",
       "      <td>Escape</td>\n",
       "      <td>2011</td>\n",
       "      <td>Jeep</td>\n",
       "      <td>Yes</td>\n",
       "      <td>Hybrid</td>\n",
       "      <td>168966</td>\n",
       "      <td>4.0</td>\n",
       "      <td>Automatic</td>\n",
       "      <td>4x4</td>\n",
       "      <td>04-May</td>\n",
       "      <td>Left wheel</td>\n",
       "      <td>White</td>\n",
       "      <td>0</td>\n",
       "      <td>2.5</td>\n",
       "      <td>N</td>\n",
       "    </tr>\n",
       "    <tr>\n",
       "      <th>4</th>\n",
       "      <td>45809263</td>\n",
       "      <td>11726</td>\n",
       "      <td>446</td>\n",
       "      <td>HONDA</td>\n",
       "      <td>FIT</td>\n",
       "      <td>2014</td>\n",
       "      <td>Hatchback</td>\n",
       "      <td>Yes</td>\n",
       "      <td>Petrol</td>\n",
       "      <td>91901</td>\n",
       "      <td>4.0</td>\n",
       "      <td>Automatic</td>\n",
       "      <td>Front</td>\n",
       "      <td>04-May</td>\n",
       "      <td>Left wheel</td>\n",
       "      <td>Silver</td>\n",
       "      <td>4</td>\n",
       "      <td>1.3</td>\n",
       "      <td>N</td>\n",
       "    </tr>\n",
       "    <tr>\n",
       "      <th>...</th>\n",
       "      <td>...</td>\n",
       "      <td>...</td>\n",
       "      <td>...</td>\n",
       "      <td>...</td>\n",
       "      <td>...</td>\n",
       "      <td>...</td>\n",
       "      <td>...</td>\n",
       "      <td>...</td>\n",
       "      <td>...</td>\n",
       "      <td>...</td>\n",
       "      <td>...</td>\n",
       "      <td>...</td>\n",
       "      <td>...</td>\n",
       "      <td>...</td>\n",
       "      <td>...</td>\n",
       "      <td>...</td>\n",
       "      <td>...</td>\n",
       "      <td>...</td>\n",
       "      <td>...</td>\n",
       "    </tr>\n",
       "    <tr>\n",
       "      <th>145</th>\n",
       "      <td>45642844</td>\n",
       "      <td>18817</td>\n",
       "      <td>609</td>\n",
       "      <td>TOYOTA</td>\n",
       "      <td>Camry</td>\n",
       "      <td>2018</td>\n",
       "      <td>Sedan</td>\n",
       "      <td>Yes</td>\n",
       "      <td>Hybrid</td>\n",
       "      <td>35058</td>\n",
       "      <td>4.0</td>\n",
       "      <td>Automatic</td>\n",
       "      <td>Front</td>\n",
       "      <td>04-May</td>\n",
       "      <td>Left wheel</td>\n",
       "      <td>White</td>\n",
       "      <td>12</td>\n",
       "      <td>2.5</td>\n",
       "      <td>N</td>\n",
       "    </tr>\n",
       "    <tr>\n",
       "      <th>146</th>\n",
       "      <td>44921934</td>\n",
       "      <td>21169</td>\n",
       "      <td>697</td>\n",
       "      <td>HONDA</td>\n",
       "      <td>Hr-v EX</td>\n",
       "      <td>2015</td>\n",
       "      <td>Jeep</td>\n",
       "      <td>No</td>\n",
       "      <td>Petrol</td>\n",
       "      <td>33330</td>\n",
       "      <td>4.0</td>\n",
       "      <td>Automatic</td>\n",
       "      <td>4x4</td>\n",
       "      <td>04-May</td>\n",
       "      <td>Left wheel</td>\n",
       "      <td>Grey</td>\n",
       "      <td>8</td>\n",
       "      <td>1.8</td>\n",
       "      <td>N</td>\n",
       "    </tr>\n",
       "    <tr>\n",
       "      <th>147</th>\n",
       "      <td>45462592</td>\n",
       "      <td>9095</td>\n",
       "      <td>-</td>\n",
       "      <td>FIAT</td>\n",
       "      <td>500</td>\n",
       "      <td>2011</td>\n",
       "      <td>Coupe</td>\n",
       "      <td>No</td>\n",
       "      <td>Petrol</td>\n",
       "      <td>141000</td>\n",
       "      <td>4.0</td>\n",
       "      <td>Automatic</td>\n",
       "      <td>Front</td>\n",
       "      <td>02-Mar</td>\n",
       "      <td>Right-hand drive</td>\n",
       "      <td>Red</td>\n",
       "      <td>4</td>\n",
       "      <td>1.2</td>\n",
       "      <td>N</td>\n",
       "    </tr>\n",
       "    <tr>\n",
       "      <th>148</th>\n",
       "      <td>45634898</td>\n",
       "      <td>1568</td>\n",
       "      <td>639</td>\n",
       "      <td>VOLKSWAGEN</td>\n",
       "      <td>Jetta</td>\n",
       "      <td>2014</td>\n",
       "      <td>Sedan</td>\n",
       "      <td>Yes</td>\n",
       "      <td>Diesel</td>\n",
       "      <td>82392</td>\n",
       "      <td>4.0</td>\n",
       "      <td>Automatic</td>\n",
       "      <td>Front</td>\n",
       "      <td>04-May</td>\n",
       "      <td>Left wheel</td>\n",
       "      <td>Silver</td>\n",
       "      <td>12</td>\n",
       "      <td>2.0</td>\n",
       "      <td>N</td>\n",
       "    </tr>\n",
       "    <tr>\n",
       "      <th>149</th>\n",
       "      <td>45777114</td>\n",
       "      <td>3136</td>\n",
       "      <td>-</td>\n",
       "      <td>SUBARU</td>\n",
       "      <td>Legacy</td>\n",
       "      <td>2005</td>\n",
       "      <td>Goods wagon</td>\n",
       "      <td>No</td>\n",
       "      <td>Petrol</td>\n",
       "      <td>180000</td>\n",
       "      <td>6.0</td>\n",
       "      <td>Tiptronic</td>\n",
       "      <td>4x4</td>\n",
       "      <td>04-May</td>\n",
       "      <td>Right-hand drive</td>\n",
       "      <td>Blue</td>\n",
       "      <td>6</td>\n",
       "      <td>2.0</td>\n",
       "      <td>Y</td>\n",
       "    </tr>\n",
       "  </tbody>\n",
       "</table>\n",
       "<p>150 rows × 19 columns</p>\n",
       "</div>"
      ],
      "text/plain": [
       "           ID  Price  Levy Manufacturer    Model  Prod. year     Category  \\\n",
       "0    45654403  13328  1399        LEXUS   RX 450        2010         Jeep   \n",
       "1    44731507  16621  1018    CHEVROLET  Equinox        2011         Jeep   \n",
       "2    45774419   8467     -        HONDA      FIT        2006    Hatchback   \n",
       "3    45769185   3607   862         FORD   Escape        2011         Jeep   \n",
       "4    45809263  11726   446        HONDA      FIT        2014    Hatchback   \n",
       "..        ...    ...   ...          ...      ...         ...          ...   \n",
       "145  45642844  18817   609       TOYOTA    Camry        2018        Sedan   \n",
       "146  44921934  21169   697        HONDA  Hr-v EX        2015         Jeep   \n",
       "147  45462592   9095     -         FIAT      500        2011        Coupe   \n",
       "148  45634898   1568   639   VOLKSWAGEN    Jetta        2014        Sedan   \n",
       "149  45777114   3136     -       SUBARU   Legacy        2005  Goods wagon   \n",
       "\n",
       "    Leather interior Fuel type  Mileage  Cylinders Gear box type Drive wheels  \\\n",
       "0                Yes    Hybrid   186005        6.0     Automatic          4x4   \n",
       "1                 No    Petrol   192000        6.0     Tiptronic          4x4   \n",
       "2                 No    Petrol   200000        4.0      Variator        Front   \n",
       "3                Yes    Hybrid   168966        4.0     Automatic          4x4   \n",
       "4                Yes    Petrol    91901        4.0     Automatic        Front   \n",
       "..               ...       ...      ...        ...           ...          ...   \n",
       "145              Yes    Hybrid    35058        4.0     Automatic        Front   \n",
       "146               No    Petrol    33330        4.0     Automatic          4x4   \n",
       "147               No    Petrol   141000        4.0     Automatic        Front   \n",
       "148              Yes    Diesel    82392        4.0     Automatic        Front   \n",
       "149               No    Petrol   180000        6.0     Tiptronic          4x4   \n",
       "\n",
       "      Doors             Wheel   Color  Airbags  Engine Volume Engine_Turbo  \n",
       "0    04-May        Left wheel  Silver       12            3.5            N  \n",
       "1    04-May        Left wheel   Black        8            3.0            N  \n",
       "2    04-May  Right-hand drive   Black        2            1.3            N  \n",
       "3    04-May        Left wheel   White        0            2.5            N  \n",
       "4    04-May        Left wheel  Silver        4            1.3            N  \n",
       "..      ...               ...     ...      ...            ...          ...  \n",
       "145  04-May        Left wheel   White       12            2.5            N  \n",
       "146  04-May        Left wheel    Grey        8            1.8            N  \n",
       "147  02-Mar  Right-hand drive     Red        4            1.2            N  \n",
       "148  04-May        Left wheel  Silver       12            2.0            N  \n",
       "149  04-May  Right-hand drive    Blue        6            2.0            Y  \n",
       "\n",
       "[150 rows x 19 columns]"
      ]
     },
     "execution_count": 660,
     "metadata": {},
     "output_type": "execute_result"
    }
   ],
   "source": [
    "car_for_pred.head(150)"
   ]
  },
  {
   "cell_type": "code",
   "execution_count": 661,
   "id": "0a30dd01-617f-4b70-bef9-afaad513d5c0",
   "metadata": {},
   "outputs": [
    {
     "data": {
      "text/plain": [
       "Left wheel          17753\n",
       "Right-hand drive     1484\n",
       "Name: Wheel, dtype: int64"
      ]
     },
     "execution_count": 661,
     "metadata": {},
     "output_type": "execute_result"
    }
   ],
   "source": [
    "car_for_pred['Wheel'].value_counts()"
   ]
  },
  {
   "cell_type": "code",
   "execution_count": 662,
   "id": "e853d9ec-9ce0-40e2-b17e-659bdf2ed6de",
   "metadata": {},
   "outputs": [
    {
     "data": {
      "text/plain": [
       "Black            5033\n",
       "White            4489\n",
       "Silver           3792\n",
       "Grey             2375\n",
       "Blue             1396\n",
       "Red               639\n",
       "Green             322\n",
       "Orange            253\n",
       "Brown             187\n",
       "Carnelian red     179\n",
       "Golden            145\n",
       "Beige             134\n",
       "Sky blue          122\n",
       "Yellow            106\n",
       "Purple             39\n",
       "Pink               26\n",
       "Name: Color, dtype: int64"
      ]
     },
     "execution_count": 662,
     "metadata": {},
     "output_type": "execute_result"
    }
   ],
   "source": [
    "car_for_pred['Color'].value_counts()"
   ]
  },
  {
   "cell_type": "code",
   "execution_count": 663,
   "id": "467df4c6-2156-4056-bb84-ed6ad6aec3d0",
   "metadata": {},
   "outputs": [
    {
     "data": {
      "text/plain": [
       "0        12\n",
       "1         8\n",
       "2         2\n",
       "3         0\n",
       "4         4\n",
       "         ..\n",
       "19232     5\n",
       "19233     8\n",
       "19234     4\n",
       "19235     4\n",
       "19236    12\n",
       "Name: Airbags, Length: 19237, dtype: int64"
      ]
     },
     "execution_count": 663,
     "metadata": {},
     "output_type": "execute_result"
    }
   ],
   "source": [
    "car_for_pred['Airbags']"
   ]
  },
  {
   "cell_type": "code",
   "execution_count": 664,
   "id": "97808d29-8a3e-4c2e-810d-aa9ad080ca6b",
   "metadata": {},
   "outputs": [
    {
     "name": "stdout",
     "output_type": "stream",
     "text": [
      "<class 'pandas.core.frame.DataFrame'>\n",
      "RangeIndex: 19237 entries, 0 to 19236\n",
      "Data columns (total 19 columns):\n",
      " #   Column            Non-Null Count  Dtype  \n",
      "---  ------            --------------  -----  \n",
      " 0   ID                19237 non-null  int64  \n",
      " 1   Price             19237 non-null  int64  \n",
      " 2   Levy              19237 non-null  object \n",
      " 3   Manufacturer      19237 non-null  object \n",
      " 4   Model             19237 non-null  object \n",
      " 5   Prod. year        19237 non-null  int64  \n",
      " 6   Category          19237 non-null  object \n",
      " 7   Leather interior  19237 non-null  object \n",
      " 8   Fuel type         19237 non-null  object \n",
      " 9   Mileage           19237 non-null  int64  \n",
      " 10  Cylinders         19237 non-null  float64\n",
      " 11  Gear box type     19237 non-null  object \n",
      " 12  Drive wheels      19237 non-null  object \n",
      " 13  Doors             19237 non-null  object \n",
      " 14  Wheel             19237 non-null  object \n",
      " 15  Color             19237 non-null  object \n",
      " 16  Airbags           19237 non-null  int64  \n",
      " 17  Engine Volume     19237 non-null  float64\n",
      " 18  Engine_Turbo      19237 non-null  object \n",
      "dtypes: float64(2), int64(5), object(12)\n",
      "memory usage: 2.8+ MB\n"
     ]
    }
   ],
   "source": [
    "car_for_pred.info()"
   ]
  },
  {
   "cell_type": "code",
   "execution_count": 665,
   "id": "39d1605e-ce83-4859-947f-9a1f7c052475",
   "metadata": {},
   "outputs": [
    {
     "data": {
      "text/plain": [
       "-       5819\n",
       "765      486\n",
       "891      461\n",
       "639      410\n",
       "640      405\n",
       "        ... \n",
       "2421       1\n",
       "827        1\n",
       "3811       1\n",
       "3301       1\n",
       "2236       1\n",
       "Name: Levy, Length: 559, dtype: int64"
      ]
     },
     "execution_count": 665,
     "metadata": {},
     "output_type": "execute_result"
    }
   ],
   "source": [
    "car_for_pred['Levy'].value_counts()"
   ]
  },
  {
   "cell_type": "code",
   "execution_count": 666,
   "id": "3fd1de64-2df5-493b-88a8-0b656cd473d8",
   "metadata": {},
   "outputs": [],
   "source": [
    "car_for_pred.drop(columns=['Levy', 'ID', 'Prod. year'], inplace=True)"
   ]
  },
  {
   "cell_type": "code",
   "execution_count": 667,
   "id": "3da1bed8-ae5a-409f-9cd8-2c514a89b24d",
   "metadata": {},
   "outputs": [
    {
     "data": {
      "text/html": [
       "<div>\n",
       "<style scoped>\n",
       "    .dataframe tbody tr th:only-of-type {\n",
       "        vertical-align: middle;\n",
       "    }\n",
       "\n",
       "    .dataframe tbody tr th {\n",
       "        vertical-align: top;\n",
       "    }\n",
       "\n",
       "    .dataframe thead th {\n",
       "        text-align: right;\n",
       "    }\n",
       "</style>\n",
       "<table border=\"1\" class=\"dataframe\">\n",
       "  <thead>\n",
       "    <tr style=\"text-align: right;\">\n",
       "      <th></th>\n",
       "      <th>Price</th>\n",
       "      <th>Manufacturer</th>\n",
       "      <th>Model</th>\n",
       "      <th>Category</th>\n",
       "      <th>Leather interior</th>\n",
       "      <th>Fuel type</th>\n",
       "      <th>Mileage</th>\n",
       "      <th>Cylinders</th>\n",
       "      <th>Gear box type</th>\n",
       "      <th>Drive wheels</th>\n",
       "      <th>Doors</th>\n",
       "      <th>Wheel</th>\n",
       "      <th>Color</th>\n",
       "      <th>Airbags</th>\n",
       "      <th>Engine Volume</th>\n",
       "      <th>Engine_Turbo</th>\n",
       "    </tr>\n",
       "  </thead>\n",
       "  <tbody>\n",
       "    <tr>\n",
       "      <th>0</th>\n",
       "      <td>13328</td>\n",
       "      <td>LEXUS</td>\n",
       "      <td>RX 450</td>\n",
       "      <td>Jeep</td>\n",
       "      <td>Yes</td>\n",
       "      <td>Hybrid</td>\n",
       "      <td>186005</td>\n",
       "      <td>6.0</td>\n",
       "      <td>Automatic</td>\n",
       "      <td>4x4</td>\n",
       "      <td>04-May</td>\n",
       "      <td>Left wheel</td>\n",
       "      <td>Silver</td>\n",
       "      <td>12</td>\n",
       "      <td>3.5</td>\n",
       "      <td>N</td>\n",
       "    </tr>\n",
       "    <tr>\n",
       "      <th>1</th>\n",
       "      <td>16621</td>\n",
       "      <td>CHEVROLET</td>\n",
       "      <td>Equinox</td>\n",
       "      <td>Jeep</td>\n",
       "      <td>No</td>\n",
       "      <td>Petrol</td>\n",
       "      <td>192000</td>\n",
       "      <td>6.0</td>\n",
       "      <td>Tiptronic</td>\n",
       "      <td>4x4</td>\n",
       "      <td>04-May</td>\n",
       "      <td>Left wheel</td>\n",
       "      <td>Black</td>\n",
       "      <td>8</td>\n",
       "      <td>3.0</td>\n",
       "      <td>N</td>\n",
       "    </tr>\n",
       "    <tr>\n",
       "      <th>2</th>\n",
       "      <td>8467</td>\n",
       "      <td>HONDA</td>\n",
       "      <td>FIT</td>\n",
       "      <td>Hatchback</td>\n",
       "      <td>No</td>\n",
       "      <td>Petrol</td>\n",
       "      <td>200000</td>\n",
       "      <td>4.0</td>\n",
       "      <td>Variator</td>\n",
       "      <td>Front</td>\n",
       "      <td>04-May</td>\n",
       "      <td>Right-hand drive</td>\n",
       "      <td>Black</td>\n",
       "      <td>2</td>\n",
       "      <td>1.3</td>\n",
       "      <td>N</td>\n",
       "    </tr>\n",
       "    <tr>\n",
       "      <th>3</th>\n",
       "      <td>3607</td>\n",
       "      <td>FORD</td>\n",
       "      <td>Escape</td>\n",
       "      <td>Jeep</td>\n",
       "      <td>Yes</td>\n",
       "      <td>Hybrid</td>\n",
       "      <td>168966</td>\n",
       "      <td>4.0</td>\n",
       "      <td>Automatic</td>\n",
       "      <td>4x4</td>\n",
       "      <td>04-May</td>\n",
       "      <td>Left wheel</td>\n",
       "      <td>White</td>\n",
       "      <td>0</td>\n",
       "      <td>2.5</td>\n",
       "      <td>N</td>\n",
       "    </tr>\n",
       "    <tr>\n",
       "      <th>4</th>\n",
       "      <td>11726</td>\n",
       "      <td>HONDA</td>\n",
       "      <td>FIT</td>\n",
       "      <td>Hatchback</td>\n",
       "      <td>Yes</td>\n",
       "      <td>Petrol</td>\n",
       "      <td>91901</td>\n",
       "      <td>4.0</td>\n",
       "      <td>Automatic</td>\n",
       "      <td>Front</td>\n",
       "      <td>04-May</td>\n",
       "      <td>Left wheel</td>\n",
       "      <td>Silver</td>\n",
       "      <td>4</td>\n",
       "      <td>1.3</td>\n",
       "      <td>N</td>\n",
       "    </tr>\n",
       "  </tbody>\n",
       "</table>\n",
       "</div>"
      ],
      "text/plain": [
       "   Price Manufacturer    Model   Category Leather interior Fuel type  Mileage  \\\n",
       "0  13328        LEXUS   RX 450       Jeep              Yes    Hybrid   186005   \n",
       "1  16621    CHEVROLET  Equinox       Jeep               No    Petrol   192000   \n",
       "2   8467        HONDA      FIT  Hatchback               No    Petrol   200000   \n",
       "3   3607         FORD   Escape       Jeep              Yes    Hybrid   168966   \n",
       "4  11726        HONDA      FIT  Hatchback              Yes    Petrol    91901   \n",
       "\n",
       "   Cylinders Gear box type Drive wheels   Doors             Wheel   Color  \\\n",
       "0        6.0     Automatic          4x4  04-May        Left wheel  Silver   \n",
       "1        6.0     Tiptronic          4x4  04-May        Left wheel   Black   \n",
       "2        4.0      Variator        Front  04-May  Right-hand drive   Black   \n",
       "3        4.0     Automatic          4x4  04-May        Left wheel   White   \n",
       "4        4.0     Automatic        Front  04-May        Left wheel  Silver   \n",
       "\n",
       "   Airbags  Engine Volume Engine_Turbo  \n",
       "0       12            3.5            N  \n",
       "1        8            3.0            N  \n",
       "2        2            1.3            N  \n",
       "3        0            2.5            N  \n",
       "4        4            1.3            N  "
      ]
     },
     "execution_count": 667,
     "metadata": {},
     "output_type": "execute_result"
    }
   ],
   "source": [
    "car_for_pred.head()"
   ]
  },
  {
   "cell_type": "code",
   "execution_count": 668,
   "id": "f344c77d-f089-4527-8888-4fbd66dae911",
   "metadata": {},
   "outputs": [
    {
     "name": "stdout",
     "output_type": "stream",
     "text": [
      "<class 'pandas.core.frame.DataFrame'>\n",
      "RangeIndex: 19237 entries, 0 to 19236\n",
      "Data columns (total 16 columns):\n",
      " #   Column            Non-Null Count  Dtype  \n",
      "---  ------            --------------  -----  \n",
      " 0   Price             19237 non-null  int64  \n",
      " 1   Manufacturer      19237 non-null  object \n",
      " 2   Model             19237 non-null  object \n",
      " 3   Category          19237 non-null  object \n",
      " 4   Leather interior  19237 non-null  object \n",
      " 5   Fuel type         19237 non-null  object \n",
      " 6   Mileage           19237 non-null  int64  \n",
      " 7   Cylinders         19237 non-null  float64\n",
      " 8   Gear box type     19237 non-null  object \n",
      " 9   Drive wheels      19237 non-null  object \n",
      " 10  Doors             19237 non-null  object \n",
      " 11  Wheel             19237 non-null  object \n",
      " 12  Color             19237 non-null  object \n",
      " 13  Airbags           19237 non-null  int64  \n",
      " 14  Engine Volume     19237 non-null  float64\n",
      " 15  Engine_Turbo      19237 non-null  object \n",
      "dtypes: float64(2), int64(3), object(11)\n",
      "memory usage: 2.3+ MB\n"
     ]
    }
   ],
   "source": [
    "car_for_pred.info()"
   ]
  },
  {
   "cell_type": "code",
   "execution_count": 669,
   "id": "7ae5d6b7-a972-4dac-964c-bf559a6dddb6",
   "metadata": {},
   "outputs": [
    {
     "data": {
      "text/plain": [
       "04    18332\n",
       "02      777\n",
       ">5      128\n",
       "Name: Doors, dtype: int64"
      ]
     },
     "execution_count": 669,
     "metadata": {},
     "output_type": "execute_result"
    }
   ],
   "source": [
    "car_for_pred['Doors'] = car_for_pred['Doors'].apply(lambda x: x.split('-')[0])\n",
    "car_for_pred['Doors'].value_counts()"
   ]
  },
  {
   "cell_type": "code",
   "execution_count": 670,
   "id": "f116eaac-0cae-440d-aa4a-b3a153f49516",
   "metadata": {},
   "outputs": [
    {
     "data": {
      "text/plain": [
       "4.0     14367\n",
       "6.0      3462\n",
       "8.0       991\n",
       "5.0       169\n",
       "3.0       107\n",
       "2.0        42\n",
       "1.0        38\n",
       "12.0       38\n",
       "10.0       12\n",
       "16.0        5\n",
       "7.0         4\n",
       "14.0        1\n",
       "9.0         1\n",
       "Name: Cylinders, dtype: int64"
      ]
     },
     "execution_count": 670,
     "metadata": {},
     "output_type": "execute_result"
    }
   ],
   "source": [
    "car_for_pred['Cylinders'].value_counts()"
   ]
  },
  {
   "cell_type": "code",
   "execution_count": 671,
   "id": "d93441bb-7736-49da-9090-4c7b16e8411b",
   "metadata": {},
   "outputs": [
    {
     "name": "stdout",
     "output_type": "stream",
     "text": [
      "<class 'pandas.core.frame.DataFrame'>\n",
      "RangeIndex: 19237 entries, 0 to 19236\n",
      "Data columns (total 16 columns):\n",
      " #   Column            Non-Null Count  Dtype  \n",
      "---  ------            --------------  -----  \n",
      " 0   Price             19237 non-null  int64  \n",
      " 1   Manufacturer      19237 non-null  object \n",
      " 2   Model             19237 non-null  object \n",
      " 3   Category          19237 non-null  object \n",
      " 4   Leather interior  19237 non-null  object \n",
      " 5   Fuel type         19237 non-null  object \n",
      " 6   Mileage           19237 non-null  int64  \n",
      " 7   Cylinders         19237 non-null  float64\n",
      " 8   Gear box type     19237 non-null  object \n",
      " 9   Drive wheels      19237 non-null  object \n",
      " 10  Doors             19237 non-null  object \n",
      " 11  Wheel             19237 non-null  object \n",
      " 12  Color             19237 non-null  object \n",
      " 13  Airbags           19237 non-null  int64  \n",
      " 14  Engine Volume     19237 non-null  float64\n",
      " 15  Engine_Turbo      19237 non-null  object \n",
      "dtypes: float64(2), int64(3), object(11)\n",
      "memory usage: 2.3+ MB\n"
     ]
    }
   ],
   "source": [
    "car_for_pred.info()"
   ]
  },
  {
   "cell_type": "code",
   "execution_count": 672,
   "id": "c67819f8-2c73-4431-8d88-424049383fc7",
   "metadata": {},
   "outputs": [
    {
     "name": "stdout",
     "output_type": "stream",
     "text": [
      "<class 'pandas.core.frame.DataFrame'>\n",
      "RangeIndex: 19237 entries, 0 to 19236\n",
      "Data columns (total 15 columns):\n",
      " #   Column            Non-Null Count  Dtype  \n",
      "---  ------            --------------  -----  \n",
      " 0   Manufacturer      19237 non-null  object \n",
      " 1   Model             19237 non-null  object \n",
      " 2   Category          19237 non-null  object \n",
      " 3   Leather interior  19237 non-null  object \n",
      " 4   Fuel type         19237 non-null  object \n",
      " 5   Mileage           19237 non-null  int64  \n",
      " 6   Cylinders         19237 non-null  float64\n",
      " 7   Gear box type     19237 non-null  object \n",
      " 8   Drive wheels      19237 non-null  object \n",
      " 9   Doors             19237 non-null  object \n",
      " 10  Wheel             19237 non-null  object \n",
      " 11  Color             19237 non-null  object \n",
      " 12  Airbags           19237 non-null  int64  \n",
      " 13  Engine Volume     19237 non-null  float64\n",
      " 14  Engine_Turbo      19237 non-null  object \n",
      "dtypes: float64(2), int64(2), object(11)\n",
      "memory usage: 2.2+ MB\n"
     ]
    }
   ],
   "source": [
    "car_for_pred.drop(columns=['Price']).info()"
   ]
  },
  {
   "cell_type": "code",
   "execution_count": 673,
   "id": "36860900-3593-487d-a2fe-d84698dc89f0",
   "metadata": {},
   "outputs": [],
   "source": [
    "from sklearn.model_selection import train_test_split\n",
    "from sklearn.compose import ColumnTransformer\n",
    "from sklearn.preprocessing import OneHotEncoder\n",
    "from sklearn.preprocessing import MinMaxScaler\n",
    "from sklearn.pipeline import Pipeline\n",
    "from sklearn.linear_model import SGDRegressor"
   ]
  },
  {
   "cell_type": "code",
   "execution_count": 674,
   "id": "74c6be91-ffc4-4920-ac50-d3016ebfd786",
   "metadata": {},
   "outputs": [],
   "source": [
    "from sklearn import set_config\n",
    "set_config(display='diagram')"
   ]
  },
  {
   "cell_type": "code",
   "execution_count": 675,
   "id": "d2e2f9ee-7606-4931-b26f-b814cab52271",
   "metadata": {},
   "outputs": [
    {
     "data": {
      "text/plain": [
       "[array(['ACURA', 'ALFA ROMEO', 'ASTON MARTIN', 'AUDI', 'BENTLEY', 'BMW',\n",
       "        'BUICK', 'CADILLAC', 'CHEVROLET', 'CHRYSLER', 'CITROEN', 'DAEWOO',\n",
       "        'DAIHATSU', 'DODGE', 'FERRARI', 'FIAT', 'FORD', 'GAZ', 'GMC',\n",
       "        'GREATWALL', 'HAVAL', 'HONDA', 'HUMMER', 'HYUNDAI', 'INFINITI',\n",
       "        'ISUZU', 'JAGUAR', 'JEEP', 'KIA', 'LAMBORGHINI', 'LANCIA',\n",
       "        'LAND ROVER', 'LEXUS', 'LINCOLN', 'MASERATI', 'MAZDA',\n",
       "        'MERCEDES-BENZ', 'MERCURY', 'MINI', 'MITSUBISHI', 'MOSKVICH',\n",
       "        'NISSAN', 'OPEL', 'PEUGEOT', 'PONTIAC', 'PORSCHE', 'RENAULT',\n",
       "        'ROLLS-ROYCE', 'ROVER', 'SAAB', 'SATURN', 'SCION', 'SEAT', 'SKODA',\n",
       "        'SSANGYONG', 'SUBARU', 'SUZUKI', 'TESLA', 'TOYOTA', 'UAZ', 'VAZ',\n",
       "        'VOLKSWAGEN', 'VOLVO', 'ZAZ', 'სხვა'], dtype=object),\n",
       " array(['09-Mar', '100', '100 NX', ..., 'macan S', 'tC', 'xD'],\n",
       "       dtype=object),\n",
       " array(['Cabriolet', 'Coupe', 'Goods wagon', 'Hatchback', 'Jeep',\n",
       "        'Limousine', 'Microbus', 'Minivan', 'Pickup', 'Sedan', 'Universal'],\n",
       "       dtype=object),\n",
       " array(['No', 'Yes'], dtype=object),\n",
       " array(['CNG', 'Diesel', 'Hybrid', 'Hydrogen', 'LPG', 'Petrol',\n",
       "        'Plug-in Hybrid'], dtype=object),\n",
       " array(['Automatic', 'Manual', 'Tiptronic', 'Variator'], dtype=object),\n",
       " array(['4x4', 'Front', 'Rear'], dtype=object),\n",
       " array(['02', '04', '>5'], dtype=object),\n",
       " array(['Left wheel', 'Right-hand drive'], dtype=object),\n",
       " array(['Beige', 'Black', 'Blue', 'Brown', 'Carnelian red', 'Golden',\n",
       "        'Green', 'Grey', 'Orange', 'Pink', 'Purple', 'Red', 'Silver',\n",
       "        'Sky blue', 'White', 'Yellow'], dtype=object),\n",
       " array(['N', 'Y'], dtype=object)]"
      ]
     },
     "execution_count": 675,
     "metadata": {},
     "output_type": "execute_result"
    }
   ],
   "source": [
    "ohe = OneHotEncoder(sparse=False,handle_unknown='error',drop='first')\n",
    "ohe.fit(car_for_pred.drop(columns=['Price']).iloc[:, [0,1,2,3,4,7,8,9,10,11,14]])\n",
    "ohe.categories_"
   ]
  },
  {
   "cell_type": "code",
   "execution_count": 676,
   "id": "736f973f-f248-4342-b0b4-ad7c63d77a7b",
   "metadata": {},
   "outputs": [],
   "source": [
    "X_train, X_test, y_train, y_test = train_test_split(car_for_pred.drop(columns=['Price']), car_for_pred['Price'], test_size=0.2, random_state=42)"
   ]
  },
  {
   "cell_type": "code",
   "execution_count": 677,
   "id": "ff664bb7-9a75-4fd7-b632-131feeafc7cf",
   "metadata": {},
   "outputs": [],
   "source": [
    "OHE = ColumnTransformer([\n",
    "    ('OHE', OneHotEncoder(sparse=False,categories=ohe.categories_,handle_unknown='error',drop='first'), [0,1,2,3,4,7,8,9,10,11,14])\n",
    "], remainder='passthrough')"
   ]
  },
  {
   "cell_type": "code",
   "execution_count": 678,
   "id": "10cfebe0-757b-4083-a4ee-1914924a2511",
   "metadata": {},
   "outputs": [],
   "source": [
    "sgd_reg = SGDRegressor()"
   ]
  },
  {
   "cell_type": "code",
   "execution_count": 679,
   "id": "1a1bc33a-9ac0-4c1a-a74c-c67a32fe95c0",
   "metadata": {},
   "outputs": [],
   "source": [
    "pipe = Pipeline([\n",
    "    ('OHE', OHE),\n",
    "    ('sgd_reg', sgd_reg)\n",
    "])"
   ]
  },
  {
   "cell_type": "code",
   "execution_count": 680,
   "id": "03bbe3aa-43e8-4d89-bea9-cfc48c9ff099",
   "metadata": {},
   "outputs": [
    {
     "data": {
      "text/html": [
       "<style>div.sk-top-container {color: black;background-color: white;}div.sk-toggleable {background-color: white;}label.sk-toggleable__label {cursor: pointer;display: block;width: 100%;margin-bottom: 0;padding: 0.2em 0.3em;box-sizing: border-box;text-align: center;}div.sk-toggleable__content {max-height: 0;max-width: 0;overflow: hidden;text-align: left;background-color: #f0f8ff;}div.sk-toggleable__content pre {margin: 0.2em;color: black;border-radius: 0.25em;background-color: #f0f8ff;}input.sk-toggleable__control:checked~div.sk-toggleable__content {max-height: 200px;max-width: 100%;overflow: auto;}div.sk-estimator input.sk-toggleable__control:checked~label.sk-toggleable__label {background-color: #d4ebff;}div.sk-label input.sk-toggleable__control:checked~label.sk-toggleable__label {background-color: #d4ebff;}input.sk-hidden--visually {border: 0;clip: rect(1px 1px 1px 1px);clip: rect(1px, 1px, 1px, 1px);height: 1px;margin: -1px;overflow: hidden;padding: 0;position: absolute;width: 1px;}div.sk-estimator {font-family: monospace;background-color: #f0f8ff;margin: 0.25em 0.25em;border: 1px dotted black;border-radius: 0.25em;box-sizing: border-box;}div.sk-estimator:hover {background-color: #d4ebff;}div.sk-parallel-item::after {content: \"\";width: 100%;border-bottom: 1px solid gray;flex-grow: 1;}div.sk-label:hover label.sk-toggleable__label {background-color: #d4ebff;}div.sk-serial::before {content: \"\";position: absolute;border-left: 1px solid gray;box-sizing: border-box;top: 2em;bottom: 0;left: 50%;}div.sk-serial {display: flex;flex-direction: column;align-items: center;background-color: white;}div.sk-item {z-index: 1;}div.sk-parallel {display: flex;align-items: stretch;justify-content: center;background-color: white;}div.sk-parallel-item {display: flex;flex-direction: column;position: relative;background-color: white;}div.sk-parallel-item:first-child::after {align-self: flex-end;width: 50%;}div.sk-parallel-item:last-child::after {align-self: flex-start;width: 50%;}div.sk-parallel-item:only-child::after {width: 0;}div.sk-dashed-wrapped {border: 1px dashed gray;margin: 0.2em;box-sizing: border-box;padding-bottom: 0.1em;background-color: white;position: relative;}div.sk-label label {font-family: monospace;font-weight: bold;background-color: white;display: inline-block;line-height: 1.2em;}div.sk-label-container {position: relative;z-index: 2;text-align: center;}div.sk-container {display: inline-block;position: relative;}</style><div class=\"sk-top-container\"><div class=\"sk-container\"><div class=\"sk-item sk-dashed-wrapped\"><div class=\"sk-label-container\"><div class=\"sk-label sk-toggleable\"><input class=\"sk-toggleable__control sk-hidden--visually\" id=\"1bf4b38b-0b99-4654-ae07-8a51839416c0\" type=\"checkbox\" ><label class=\"sk-toggleable__label\" for=\"1bf4b38b-0b99-4654-ae07-8a51839416c0\">Pipeline</label><div class=\"sk-toggleable__content\"><pre>Pipeline(steps=[('OHE',\n",
       "                 ColumnTransformer(remainder='passthrough',\n",
       "                                   transformers=[('OHE',\n",
       "                                                  OneHotEncoder(categories=[array(['ACURA', 'ALFA ROMEO', 'ASTON MARTIN', 'AUDI', 'BENTLEY', 'BMW',\n",
       "       'BUICK', 'CADILLAC', 'CHEVROLET', 'CHRYSLER', 'CITROEN', 'DAEWOO',\n",
       "       'DAIHATSU', 'DODGE', 'FERRARI', 'FIAT', 'FORD', 'GAZ', 'GMC',\n",
       "       'GREATWALL', 'HAVAL', 'HONDA', 'HUMMER', 'HYUNDAI', 'INFINITI',...\n",
       "                                                                            array(['02', '04', '>5'], dtype=object),\n",
       "                                                                            array(['Left wheel', 'Right-hand drive'], dtype=object),\n",
       "                                                                            array(['Beige', 'Black', 'Blue', 'Brown', 'Carnelian red', 'Golden',\n",
       "       'Green', 'Grey', 'Orange', 'Pink', 'Purple', 'Red', 'Silver',\n",
       "       'Sky blue', 'White', 'Yellow'], dtype=object),\n",
       "                                                                            array(['N', 'Y'], dtype=object)],\n",
       "                                                                drop='first',\n",
       "                                                                sparse=False),\n",
       "                                                  [0, 1, 2, 3, 4, 7, 8, 9, 10,\n",
       "                                                   11, 14])])),\n",
       "                ('sgd_reg', SGDRegressor())])</pre></div></div></div><div class=\"sk-serial\"><div class=\"sk-item sk-dashed-wrapped\"><div class=\"sk-label-container\"><div class=\"sk-label sk-toggleable\"><input class=\"sk-toggleable__control sk-hidden--visually\" id=\"2da3d80f-d8b1-483e-a636-6d0e34af0248\" type=\"checkbox\" ><label class=\"sk-toggleable__label\" for=\"2da3d80f-d8b1-483e-a636-6d0e34af0248\">OHE: ColumnTransformer</label><div class=\"sk-toggleable__content\"><pre>ColumnTransformer(remainder='passthrough',\n",
       "                  transformers=[('OHE',\n",
       "                                 OneHotEncoder(categories=[array(['ACURA', 'ALFA ROMEO', 'ASTON MARTIN', 'AUDI', 'BENTLEY', 'BMW',\n",
       "       'BUICK', 'CADILLAC', 'CHEVROLET', 'CHRYSLER', 'CITROEN', 'DAEWOO',\n",
       "       'DAIHATSU', 'DODGE', 'FERRARI', 'FIAT', 'FORD', 'GAZ', 'GMC',\n",
       "       'GREATWALL', 'HAVAL', 'HONDA', 'HUMMER', 'HYUNDAI', 'INFINITI',\n",
       "       'ISUZU', 'JAGUAR', 'JEEP'...\n",
       "                                                           array(['4x4', 'Front', 'Rear'], dtype=object),\n",
       "                                                           array(['02', '04', '>5'], dtype=object),\n",
       "                                                           array(['Left wheel', 'Right-hand drive'], dtype=object),\n",
       "                                                           array(['Beige', 'Black', 'Blue', 'Brown', 'Carnelian red', 'Golden',\n",
       "       'Green', 'Grey', 'Orange', 'Pink', 'Purple', 'Red', 'Silver',\n",
       "       'Sky blue', 'White', 'Yellow'], dtype=object),\n",
       "                                                           array(['N', 'Y'], dtype=object)],\n",
       "                                               drop='first', sparse=False),\n",
       "                                 [0, 1, 2, 3, 4, 7, 8, 9, 10, 11, 14])])</pre></div></div></div><div class=\"sk-parallel\"><div class=\"sk-parallel-item\"><div class=\"sk-item\"><div class=\"sk-label-container\"><div class=\"sk-label sk-toggleable\"><input class=\"sk-toggleable__control sk-hidden--visually\" id=\"12e8b68c-0489-4763-a7ff-5593ef3bbe87\" type=\"checkbox\" ><label class=\"sk-toggleable__label\" for=\"12e8b68c-0489-4763-a7ff-5593ef3bbe87\">OHE</label><div class=\"sk-toggleable__content\"><pre>[0, 1, 2, 3, 4, 7, 8, 9, 10, 11, 14]</pre></div></div></div><div class=\"sk-serial\"><div class=\"sk-item\"><div class=\"sk-estimator sk-toggleable\"><input class=\"sk-toggleable__control sk-hidden--visually\" id=\"78708c6f-3f2c-4cd9-bdb3-f65486b63b38\" type=\"checkbox\" ><label class=\"sk-toggleable__label\" for=\"78708c6f-3f2c-4cd9-bdb3-f65486b63b38\">OneHotEncoder</label><div class=\"sk-toggleable__content\"><pre>OneHotEncoder(categories=[array(['ACURA', 'ALFA ROMEO', 'ASTON MARTIN', 'AUDI', 'BENTLEY', 'BMW',\n",
       "       'BUICK', 'CADILLAC', 'CHEVROLET', 'CHRYSLER', 'CITROEN', 'DAEWOO',\n",
       "       'DAIHATSU', 'DODGE', 'FERRARI', 'FIAT', 'FORD', 'GAZ', 'GMC',\n",
       "       'GREATWALL', 'HAVAL', 'HONDA', 'HUMMER', 'HYUNDAI', 'INFINITI',\n",
       "       'ISUZU', 'JAGUAR', 'JEEP', 'KIA', 'LAMBORGHINI', 'LANCIA',\n",
       "       'LAND ROVER', 'LEXUS', 'LINCOLN', 'MA...\n",
       "                          array(['Automatic', 'Manual', 'Tiptronic', 'Variator'], dtype=object),\n",
       "                          array(['4x4', 'Front', 'Rear'], dtype=object),\n",
       "                          array(['02', '04', '>5'], dtype=object),\n",
       "                          array(['Left wheel', 'Right-hand drive'], dtype=object),\n",
       "                          array(['Beige', 'Black', 'Blue', 'Brown', 'Carnelian red', 'Golden',\n",
       "       'Green', 'Grey', 'Orange', 'Pink', 'Purple', 'Red', 'Silver',\n",
       "       'Sky blue', 'White', 'Yellow'], dtype=object),\n",
       "                          array(['N', 'Y'], dtype=object)],\n",
       "              drop='first', sparse=False)</pre></div></div></div></div></div></div><div class=\"sk-parallel-item\"><div class=\"sk-item\"><div class=\"sk-label-container\"><div class=\"sk-label sk-toggleable\"><input class=\"sk-toggleable__control sk-hidden--visually\" id=\"bc057b10-9282-4fdb-8744-acf423c86852\" type=\"checkbox\" ><label class=\"sk-toggleable__label\" for=\"bc057b10-9282-4fdb-8744-acf423c86852\">remainder</label><div class=\"sk-toggleable__content\"><pre>['Mileage', 'Cylinders', 'Airbags', 'Engine Volume']</pre></div></div></div><div class=\"sk-serial\"><div class=\"sk-item\"><div class=\"sk-estimator sk-toggleable\"><input class=\"sk-toggleable__control sk-hidden--visually\" id=\"a5b9a47e-923f-41e6-b377-e317bc95b791\" type=\"checkbox\" ><label class=\"sk-toggleable__label\" for=\"a5b9a47e-923f-41e6-b377-e317bc95b791\">passthrough</label><div class=\"sk-toggleable__content\"><pre>passthrough</pre></div></div></div></div></div></div></div></div><div class=\"sk-item\"><div class=\"sk-estimator sk-toggleable\"><input class=\"sk-toggleable__control sk-hidden--visually\" id=\"d005093e-22e5-49ce-bdd2-e9bd13a3b3f3\" type=\"checkbox\" ><label class=\"sk-toggleable__label\" for=\"d005093e-22e5-49ce-bdd2-e9bd13a3b3f3\">SGDRegressor</label><div class=\"sk-toggleable__content\"><pre>SGDRegressor()</pre></div></div></div></div></div></div></div>"
      ],
      "text/plain": [
       "Pipeline(steps=[('OHE',\n",
       "                 ColumnTransformer(remainder='passthrough',\n",
       "                                   transformers=[('OHE',\n",
       "                                                  OneHotEncoder(categories=[array(['ACURA', 'ALFA ROMEO', 'ASTON MARTIN', 'AUDI', 'BENTLEY', 'BMW',\n",
       "       'BUICK', 'CADILLAC', 'CHEVROLET', 'CHRYSLER', 'CITROEN', 'DAEWOO',\n",
       "       'DAIHATSU', 'DODGE', 'FERRARI', 'FIAT', 'FORD', 'GAZ', 'GMC',\n",
       "       'GREATWALL', 'HAVAL', 'HONDA', 'HUMMER', 'HYUNDAI', 'INFINITI',...\n",
       "                                                                            array(['02', '04', '>5'], dtype=object),\n",
       "                                                                            array(['Left wheel', 'Right-hand drive'], dtype=object),\n",
       "                                                                            array(['Beige', 'Black', 'Blue', 'Brown', 'Carnelian red', 'Golden',\n",
       "       'Green', 'Grey', 'Orange', 'Pink', 'Purple', 'Red', 'Silver',\n",
       "       'Sky blue', 'White', 'Yellow'], dtype=object),\n",
       "                                                                            array(['N', 'Y'], dtype=object)],\n",
       "                                                                drop='first',\n",
       "                                                                sparse=False),\n",
       "                                                  [0, 1, 2, 3, 4, 7, 8, 9, 10,\n",
       "                                                   11, 14])])),\n",
       "                ('sgd_reg', SGDRegressor())])"
      ]
     },
     "execution_count": 680,
     "metadata": {},
     "output_type": "execute_result"
    }
   ],
   "source": [
    "pipe.fit(X_train, y_train)"
   ]
  },
  {
   "cell_type": "code",
   "execution_count": 681,
   "id": "7b86525f-7880-4b85-b246-c84cf56fb10b",
   "metadata": {},
   "outputs": [
    {
     "data": {
      "text/plain": [
       "array([8.07186302e+21, 4.13900463e+20, 2.63869191e+22, ...,\n",
       "       3.41217508e+22, 1.24682960e+22, 4.00230271e+22])"
      ]
     },
     "execution_count": 681,
     "metadata": {},
     "output_type": "execute_result"
    }
   ],
   "source": [
    "y_pred = pipe.predict(X_test)\n",
    "y_pred"
   ]
  },
  {
   "cell_type": "code",
   "execution_count": null,
   "id": "21000bb4-7cd5-4620-8c57-f38c9e26a8bd",
   "metadata": {},
   "outputs": [],
   "source": [
    "from sklearn.metrics import "
   ]
  }
 ],
 "metadata": {
  "kernelspec": {
   "display_name": "Python 3",
   "language": "python",
   "name": "python3"
  },
  "language_info": {
   "codemirror_mode": {
    "name": "ipython",
    "version": 3
   },
   "file_extension": ".py",
   "mimetype": "text/x-python",
   "name": "python",
   "nbconvert_exporter": "python",
   "pygments_lexer": "ipython3",
   "version": "3.8.8"
  }
 },
 "nbformat": 4,
 "nbformat_minor": 5
}
